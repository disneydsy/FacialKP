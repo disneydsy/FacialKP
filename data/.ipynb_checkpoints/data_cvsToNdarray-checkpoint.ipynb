{
 "cells": [
  {
   "cell_type": "code",
   "execution_count": 15,
   "metadata": {
    "collapsed": true
   },
   "outputs": [],
   "source": [
    "import numpy as np\n",
    "import pandas as pd"
   ]
  },
  {
   "cell_type": "code",
   "execution_count": 16,
   "metadata": {
    "collapsed": false
   },
   "outputs": [],
   "source": [
    "df_train=pd.read_csv('../../data/training.csv')\n",
    "N_train=df_train.shape[0]\n",
    "train_label=df_train.ix[:,:30].as_matrix()\n",
    "train_data=np.zeros((N_train,96*96))\n",
    "for i in range(N_train):\n",
    "    train_data[i,:]=df_train.ix[i,30].split(' ')\n",
    "train_data=train_data.astype('uint8')\n",
    "output_txt=df_train.columns.values[:-1].astype('str')\n",
    "\n",
    "df_test=pd.read_csv('../../data/test.csv')\n",
    "N_test=df_test.shape[0]\n",
    "test_data=np.zeros((N_test,96*96))\n",
    "for i in range(N_test):\n",
    "    test_data[i,:]=df_test.ix[i,1].split(' ')\n",
    "test_data=test_data.astype('uint8')"
   ]
  },
  {
   "cell_type": "code",
   "execution_count": 20,
   "metadata": {
    "collapsed": false
   },
   "outputs": [
    {
     "name": "stdout",
     "output_type": "stream",
     "text": [
      "(7049, 9216) (7049, 30) (1783, 9216) ['left_eye_center_x' 'left_eye_center_y' 'right_eye_center_x'\n",
      " 'right_eye_center_y' 'left_eye_inner_corner_x' 'left_eye_inner_corner_y'\n",
      " 'left_eye_outer_corner_x' 'left_eye_outer_corner_y'\n",
      " 'right_eye_inner_corner_x' 'right_eye_inner_corner_y'\n",
      " 'right_eye_outer_corner_x' 'right_eye_outer_corner_y'\n",
      " 'left_eyebrow_inner_end_x' 'left_eyebrow_inner_end_y'\n",
      " 'left_eyebrow_outer_end_x' 'left_eyebrow_outer_end_y'\n",
      " 'right_eyebrow_inner_end_x' 'right_eyebrow_inner_end_y'\n",
      " 'right_eyebrow_outer_end_x' 'right_eyebrow_outer_end_y' 'nose_tip_x'\n",
      " 'nose_tip_y' 'mouth_left_corner_x' 'mouth_left_corner_y'\n",
      " 'mouth_right_corner_x' 'mouth_right_corner_y' 'mouth_center_top_lip_x'\n",
      " 'mouth_center_top_lip_y' 'mouth_center_bottom_lip_x'\n",
      " 'mouth_center_bottom_lip_y']\n"
     ]
    }
   ],
   "source": [
    "import pickle\n",
    "data = {'train_data': train_data,\n",
    "        'train_label': train_label,\n",
    "        'test_data': test_data,\n",
    "        'output_txt': output_txt}\n",
    "output = open('data.pkl', 'wb')\n",
    "pickle.dump(data, output)\n",
    "output.close()\n",
    "\n",
    "pkl_file = open('data.pkl', 'rb')\n",
    "data = pickle.load(pkl_file)\n",
    "pkl_file.close()\n",
    "train_data=data['train_data']\n",
    "train_label=data['train_label']\n",
    "test_data=data['test_data']\n",
    "output_txt=data['output_txt']\n",
    "print train_data.shape,train_label.shape,test_data.shape,output_txt"
   ]
  }
 ],
 "metadata": {
  "kernelspec": {
   "display_name": "Python 2",
   "language": "python",
   "name": "python2"
  },
  "language_info": {
   "codemirror_mode": {
    "name": "ipython",
    "version": 2
   },
   "file_extension": ".py",
   "mimetype": "text/x-python",
   "name": "python",
   "nbconvert_exporter": "python",
   "pygments_lexer": "ipython2",
   "version": "2.7.11"
  }
 },
 "nbformat": 4,
 "nbformat_minor": 0
}
