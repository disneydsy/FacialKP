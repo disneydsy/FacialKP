{
 "cells": [
  {
   "cell_type": "code",
   "execution_count": 1,
   "metadata": {
    "collapsed": false
   },
   "outputs": [
    {
     "ename": "NameError",
     "evalue": "name 'train_data' is not defined",
     "output_type": "error",
     "traceback": [
      "\u001b[1;31m---------------------------------------------------------------------------\u001b[0m",
      "\u001b[1;31mNameError\u001b[0m                                 Traceback (most recent call last)",
      "\u001b[1;32m<ipython-input-1-bdc112fd1b73>\u001b[0m in \u001b[0;36m<module>\u001b[1;34m()\u001b[0m\n\u001b[0;32m      7\u001b[0m \u001b[0mtest_data\u001b[0m\u001b[1;33m=\u001b[0m\u001b[0mdata\u001b[0m\u001b[1;33m[\u001b[0m\u001b[1;34m'test_data'\u001b[0m\u001b[1;33m]\u001b[0m\u001b[1;33m\u001b[0m\u001b[0m\n\u001b[0;32m      8\u001b[0m \u001b[0moutput_txt\u001b[0m\u001b[1;33m=\u001b[0m\u001b[0mdata\u001b[0m\u001b[1;33m[\u001b[0m\u001b[1;34m'output_txt'\u001b[0m\u001b[1;33m]\u001b[0m\u001b[1;33m\u001b[0m\u001b[0m\n\u001b[1;32m----> 9\u001b[1;33m \u001b[1;32mprint\u001b[0m \u001b[0mtrain_data\u001b[0m\u001b[1;33m.\u001b[0m\u001b[0mshape\u001b[0m\u001b[1;33m,\u001b[0m\u001b[0mtrain_label\u001b[0m\u001b[1;33m.\u001b[0m\u001b[0mshape\u001b[0m\u001b[1;33m,\u001b[0m\u001b[0mtest_data\u001b[0m\u001b[1;33m.\u001b[0m\u001b[0mshape\u001b[0m\u001b[1;33m,\u001b[0m\u001b[0moutput_txt\u001b[0m\u001b[1;33m\u001b[0m\u001b[0m\n\u001b[0m",
      "\u001b[1;31mNameError\u001b[0m: name 'train_data' is not defined"
     ]
    }
   ],
   "source": [
    "import pickle\n",
    "pkl_file = open('data.pkl', 'rb')\n",
    "data = pickle.load(pkl_file)\n",
    "pkl_file.close()\n",
    "train_val_data=data['train_data']\n",
    "train_val_label=data['train_label']\n",
    "test_data=data['test_data']\n",
    "output_txt=data['output_txt']\n",
    "print train_val_data.shape,train_val_label.shape,test_data.shape,output_txt"
   ]
  },
  {
   "cell_type": "code",
   "execution_count": 2,
   "metadata": {
    "collapsed": false
   },
   "outputs": [
    {
     "name": "stdout",
     "output_type": "stream",
     "text": [
      "(7049, 9216) (7049, 30) (1783, 9216) ['left_eye_center_x' 'left_eye_center_y' 'right_eye_center_x'\n",
      " 'right_eye_center_y' 'left_eye_inner_corner_x' 'left_eye_inner_corner_y'\n",
      " 'left_eye_outer_corner_x' 'left_eye_outer_corner_y'\n",
      " 'right_eye_inner_corner_x' 'right_eye_inner_corner_y'\n",
      " 'right_eye_outer_corner_x' 'right_eye_outer_corner_y'\n",
      " 'left_eyebrow_inner_end_x' 'left_eyebrow_inner_end_y'\n",
      " 'left_eyebrow_outer_end_x' 'left_eyebrow_outer_end_y'\n",
      " 'right_eyebrow_inner_end_x' 'right_eyebrow_inner_end_y'\n",
      " 'right_eyebrow_outer_end_x' 'right_eyebrow_outer_end_y' 'nose_tip_x'\n",
      " 'nose_tip_y' 'mouth_left_corner_x' 'mouth_left_corner_y'\n",
      " 'mouth_right_corner_x' 'mouth_right_corner_y' 'mouth_center_top_lip_x'\n",
      " 'mouth_center_top_lip_y' 'mouth_center_bottom_lip_x'\n",
      " 'mouth_center_bottom_lip_y']\n"
     ]
    }
   ],
   "source": [
    "print train_val_data.shape,train_val_label.shape,test_data.shape,output_txt"
   ]
  },
  {
   "cell_type": "code",
   "execution_count": 13,
   "metadata": {
    "collapsed": false
   },
   "outputs": [],
   "source": [
    "import numpy as np\n",
    "import scipy.misc"
   ]
  },
  {
   "cell_type": "code",
   "execution_count": 15,
   "metadata": {
    "collapsed": false
   },
   "outputs": [],
   "source": [
    "ratio=227./96\n",
    "train_val_label_resized=train_val_label*ratio\n",
    "N_train=train_val_label.shape[0]\n",
    "train_val_data_resized=np.zeros((N_train,227*227*3),dtype='uint8')\n",
    "for i in range(N_train):\n",
    "    origin_image=train_val_data[i].reshape((96,96))\n",
    "    resized_image=scipy.misc.imresize(origin_image,(227,227), interp='bilinear')\n",
    "    color_image=np.tile(resized_image,(3,1,1))\n",
    "    train_val_data_resized[i,:]=color_image.flatten()\n",
    "del train_val_label"
   ]
  },
  {
   "cell_type": "code",
   "execution_count": 27,
   "metadata": {
    "collapsed": false
   },
   "outputs": [
    {
     "data": {
      "image/png": "[encoded data removed]",
      "text/plain": [
       "<matplotlib.figure.Figure at 0x7f7720868d10>"
      ]
     },
     "metadata": {},
     "output_type": "display_data"
    }
   ],
   "source": [
    "from pylab import *\n",
    "%matplotlib inline\n",
    "plt.imshow(train_val_data_resized[0].reshape((3,227,227)).transpose((1,2,0)))   \n",
    "plt.scatter(x=train_val_label_resized[0][::2], y=train_val_label_resized[0][1::2])\n",
    "plt.show()"
   ]
  },
  {
   "cell_type": "code",
   "execution_count": null,
   "metadata": {
    "collapsed": true
   },
   "outputs": [],
   "source": [
    "from sklearn.cross_validation import train_test_split\n",
    "train_data, val_data, train_label, val_label = train_test_split(train_val_data, train_val_label, test_size=0.2837, random_state=42)\n",
    "print train_data.shape,train_label.shape,val_data.shape,val_label.shape"
   ]
  },
  {
   "cell_type": "code",
   "execution_count": 26,
   "metadata": {
    "collapsed": false
   },
   "outputs": [
    {
     "data": {
      "image/png": "[encoded data removed]",
      "text/plain": [
       "<matplotlib.figure.Figure at 0x7f77208b3f10>"
      ]
     },
     "metadata": {},
     "output_type": "display_data"
    }
   ],
   "source": [
    "import scipy\n",
    "from skimage.color import gray2rgb\n",
    "from pylab import *\n",
    "%matplotlib inline\n",
    "\n",
    "ratio=227./96\n",
    "\n",
    "origin_image=train_val_data[0].reshape((96,96))\n",
    "gray_image=scipy.misc.imresize(origin_image,(227,227), interp='bilinear')\n",
    "color_image=gray2rgb(gray_image)\n",
    "\n",
    "plt.subplot(1, 3, 1)\n",
    "plt.imshow(origin_image,cmap = plt.get_cmap('gray')) \n",
    "plt.scatter(x=train_val_label[0][::2], y=train_val_label[0][1::2])\n",
    "plt.subplot(1, 3, 2)\n",
    "plt.imshow(gray_image,cmap = plt.get_cmap('gray')) \n",
    "plt.scatter(x=train_val_label[0][::2], y=train_val_label[0][1::2])\n",
    "plt.subplot(1, 3, 3)\n",
    "plt.imshow(color_image)    \n",
    "plt.scatter(x=train_val_label[0][::2], y=train_val_label[0][1::2])\n",
    "plt.show()"
   ]
  },
  {
   "cell_type": "code",
   "execution_count": 32,
   "metadata": {
    "collapsed": false
   },
   "outputs": [
    {
     "data": {
      "text/plain": [
       "(3, 227, 227)"
      ]
     },
     "execution_count": 32,
     "metadata": {},
     "output_type": "execute_result"
    }
   ],
   "source": [
    "origin_image=train_data[0].reshape((96,96))\n",
    "gray_image=scipy.misc.imresize(origin_image,(227,227), interp='bilinear')\n",
    "color_image=np.tile(gray_image,(3,1,1))\n",
    "color_image[0]"
   ]
  },
  {
   "cell_type": "code",
   "execution_count": null,
   "metadata": {
    "collapsed": true
   },
   "outputs": [],
   "source": [
    "import PIL\n",
    "from PIL import Image\n",
    "\n",
    "basewidth = 300\n",
    "img = Image.open('somepic.jpg')\n",
    "wpercent = (basewidth/float(img.size[0]))\n",
    "hsize = int((float(img.size[1])*float(wpercent)))\n",
    "img = img.resize((basewidth,hsize), PIL.Image.ANTIALIAS)\n",
    "img.save('sompic.jpg')"
   ]
  },
  {
   "cell_type": "code",
   "execution_count": null,
   "metadata": {
    "collapsed": true
   },
   "outputs": [],
   "source": [
    "N = train_data.shape[0]\n",
    "map_size = (train_data.nbytes+train_label.nbytes) * 10\n",
    "env = lmdb.open('train_lmdb', map_size=map_size)\n",
    "with env.begin(write=True) as txn:\n",
    "    # txn is a Transaction object\n",
    "    for i in range(N):\n",
    "        datum = caffe.proto.caffe_pb2.Datum()\n",
    "        datum.channels = 1\n",
    "        datum.height = 28\n",
    "        datum.width = 28\n",
    "        datum.data = label_data_train[i,1:].tobytes()  # or .tostring() if numpy < 1.9\n",
    "        datum.label = int(label_data_train[i,0])\n",
    "        str_id = '{:08}'.format(i)\n",
    "        txn.put(str_id, datum.SerializeToString())\n",
    "        \n",
    "        \n",
    "N = label_data_val.shape[0]\n",
    "map_size = label_data_val.nbytes * 10\n",
    "env = lmdb.open('val_lmdb', map_size=map_size)\n",
    "with env.begin(write=True) as txn:\n",
    "    # txn is a Transaction object\n",
    "    for i in range(N):\n",
    "        datum = caffe.proto.caffe_pb2.Datum()\n",
    "        datum.channels = 1\n",
    "        datum.height = 28\n",
    "        datum.width = 28\n",
    "        datum.data = label_data_train[i,1:].tobytes()  # or .tostring() if numpy < 1.9\n",
    "        datum.label = int(label_data_train[i,0])\n",
    "        str_id = '{:08}'.format(i)\n",
    "        txn.put(str_id, datum.SerializeToString())\n",
    "        \n",
    "        \n",
    "N = data_test.shape[0]\n",
    "map_size = data_test.nbytes * 10        \n",
    "env = lmdb.open('test_lmdb', map_size=map_size)\n",
    "with env.begin(write=True) as txn:\n",
    "    # txn is a Transaction object\n",
    "    for i in range(N):\n",
    "        datum = caffe.proto.caffe_pb2.Datum()\n",
    "        datum.channels = 1\n",
    "        datum.height = 28\n",
    "        datum.width = 28\n",
    "        datum.data = data_test[i].tobytes()  # or .tostring() if numpy < 1.9\n",
    "        str_id = '{:08}'.format(i)\n",
    "        txn.put(str_id, datum.SerializeToString())"
   ]
  }
 ],
 "metadata": {
  "kernelspec": {
   "display_name": "Python 2",
   "language": "python",
   "name": "python2"
  },
  "language_info": {
   "codemirror_mode": {
    "name": "ipython",
    "version": 2
   },
   "file_extension": ".py",
   "mimetype": "text/x-python",
   "name": "python",
   "nbconvert_exporter": "python",
   "pygments_lexer": "ipython2",
   "version": "2.7.11"
  }
 },
 "nbformat": 4,
 "nbformat_minor": 0
}
