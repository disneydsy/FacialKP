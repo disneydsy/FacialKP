{
 "cells": [
  {
   "cell_type": "code",
   "execution_count": null,
   "metadata": {
    "collapsed": false
   },
   "outputs": [],
   "source": [
    "import pickle\n",
    "pkl_file = open('data.pkl', 'rb')\n",
    "data = pickle.load(pkl_file)\n",
    "pkl_file.close()\n",
    "train_val_data=data['train_data']\n",
    "train_val_label=data['train_label']\n",
    "test_data=data['test_data']\n",
    "output_txt=data['output_txt']\n",
    "print train_val_data.shape,train_val_label.shape,test_data.shape,output_txt"
   ]
  },
  {
   "cell_type": "code",
   "execution_count": null,
   "metadata": {
    "collapsed": false
   },
   "outputs": [],
   "source": [
    "import numpy as np\n",
    "import scipy.misc\n",
    "from pylab import *\n",
    "%matplotlib inline"
   ]
  },
  {
   "cell_type": "code",
   "execution_count": null,
   "metadata": {
    "collapsed": false
   },
   "outputs": [],
   "source": [
    "ratio=227./96\n",
    "train_val_label_resized=train_val_label*ratio\n",
    "\n",
    "N_train=train_val_label.shape[0]\n",
    "train_val_data_resized=np.zeros((N_train,227*227*3),dtype='uint8')\n",
    "for i in range(N_train):\n",
    "    origin_image=train_val_data[i].reshape((96,96))\n",
    "    resized_image=scipy.misc.imresize(origin_image,(227,227), interp='bilinear')\n",
    "    color_image=np.tile(resized_image,(3,1,1))\n",
    "    train_val_data_resized[i,:]=color_image.flatten()\n",
    "    \n",
    "N_test=test_data.shape[0]\n",
    "test_data_resized=np.zeros((N_test,227*227*3),dtype='uint8')\n",
    "for i in range(N_test):\n",
    "    origin_image=test_data[i].reshape((96,96))\n",
    "    resized_image=scipy.misc.imresize(origin_image,(227,227), interp='bilinear')\n",
    "    color_image=np.tile(resized_image,(3,1,1))\n",
    "    test_data_resized[i,:]=color_image.flatten()"
   ]
  },
  {
   "cell_type": "code",
   "execution_count": null,
   "metadata": {
    "collapsed": false
   },
   "outputs": [],
   "source": [
    "plt.imshow(train_val_data_resized[0].reshape((3,227,227)).transpose((1,2,0)))   \n",
    "plt.scatter(x=train_val_label_resized[0][::2], y=train_val_label_resized[0][1::2])\n",
    "plt.show()"
   ]
  },
  {
   "cell_type": "code",
   "execution_count": null,
   "metadata": {
    "collapsed": false
   },
   "outputs": [],
   "source": [
    "from sklearn.cross_validation import train_test_split\n",
    "train_data, val_data, train_label, val_label = train_test_split(train_val_data_resized, train_val_label_resized, test_size=0.2837, random_state=42)\n",
    "print train_data.shape,train_label.shape,val_data.shape,val_label.shape,test_data_resized.shape"
   ]
  },
  {
   "cell_type": "code",
   "execution_count": null,
   "metadata": {
    "collapsed": false
   },
   "outputs": [],
   "source": [
    "train_label[1,:]"
   ]
  },
  {
   "cell_type": "code",
   "execution_count": null,
   "metadata": {
    "collapsed": false
   },
   "outputs": [],
   "source": [
    "import lmdb\n",
    "import caffe\n",
    "\n",
    "N = train_data.shape[0]\n",
    "map_size = (train_data.nbytes+train_label.nbytes) * 10\n",
    "env = lmdb.open('train_lmdb', map_size=map_size)\n",
    "with env.begin(write=True) as txn:\n",
    "    # txn is a Transaction object\n",
    "    for i in range(N):\n",
    "        datum = caffe.proto.caffe_pb2.Datum()\n",
    "        datum.channels = 3\n",
    "        datum.height = 227\n",
    "        datum.width = 227\n",
    "        datum.data = train_data[i,:].tobytes()  # or .tostring() if numpy < 1.9\n",
    "        datum.label = train_label[i,0]\n",
    "        str_id = '{:08}'.format(i)\n",
    "        txn.put(str_id, datum.SerializeToString())\n",
    "        \n",
    "        \n",
    "N = label_data_val.shape[0]\n",
    "map_size = label_data_val.nbytes * 10\n",
    "env = lmdb.open('val_lmdb', map_size=map_size)\n",
    "with env.begin(write=True) as txn:\n",
    "    # txn is a Transaction object\n",
    "    for i in range(N):\n",
    "        datum = caffe.proto.caffe_pb2.Datum()\n",
    "        datum.channels = 3\n",
    "        datum.height = 227\n",
    "        datum.width = 227\n",
    "        datum.data = val_data[i,:].tobytes()  # or .tostring() if numpy < 1.9\n",
    "        datum.label = val_label[i,0]\n",
    "        str_id = '{:08}'.format(i)\n",
    "        txn.put(str_id, datum.SerializeToString())\n",
    "        \n",
    "N = test_data_resized.shape[0]\n",
    "map_size = test_data_resized.nbytes * 10        \n",
    "env = lmdb.open('test_lmdb', map_size=map_size)\n",
    "with env.begin(write=True) as txn:\n",
    "    # txn is a Transaction object\n",
    "    for i in range(N):\n",
    "        datum = caffe.proto.caffe_pb2.Datum()\n",
    "        datum.channels = 3\n",
    "        datum.height = 227\n",
    "        datum.width = 227\n",
    "        datum.data = test_data_resized[i].tobytes()  # or .tostring() if numpy < 1.9\n",
    "        str_id = '{:08}'.format(i)\n",
    "        txn.put(str_id, datum.SerializeToString())"
   ]
  }
 ],
 "metadata": {
  "kernelspec": {
   "display_name": "Python 2",
   "language": "python",
   "name": "python2"
  },
  "language_info": {
   "codemirror_mode": {
    "name": "ipython",
    "version": 2
   },
   "file_extension": ".py",
   "mimetype": "text/x-python",
   "name": "python",
   "nbconvert_exporter": "python",
   "pygments_lexer": "ipython2",
   "version": "2.7.11"
  }
 },
 "nbformat": 4,
 "nbformat_minor": 0
}
